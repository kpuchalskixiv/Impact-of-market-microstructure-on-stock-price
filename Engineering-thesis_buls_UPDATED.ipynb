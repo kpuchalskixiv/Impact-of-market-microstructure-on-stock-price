{
 "cells": [
  {
   "cell_type": "markdown",
   "metadata": {},
   "source": [
    "# Starter code"
   ]
  },
  {
   "cell_type": "code",
   "execution_count": 1,
   "metadata": {},
   "outputs": [],
   "source": [
    "import numpy as np\n",
    "import matplotlib.pyplot as plt\n",
    "import pandas as pd\n",
    "import scipy.stats as scs\n",
    "from sklearn.preprocessing import normalize as norm\n",
    "from sklearn import linear_model\n",
    "import datetime\n",
    "import time\n",
    "from datetime import datetime , timedelta\n",
    "\n",
    "import zipfile\n",
    "import math\n",
    "#from tensorflow.keras.optimizers import Adam\n",
    "#from keras.models import Sequential\n",
    "#from keras.layers import Dense\n",
    "#from keras.layers import LSTM\n",
    "#from keras.layers import GRU\n",
    "#from keras.layers import ReLU\n",
    "#from sklearn.preprocessing import MinMaxScaler\n",
    "#from sklearn.metrics import mean_squared_error\n",
    "\n",
    "#% matplotlib inline\n",
    "\n",
    "#import plotly.offline as py\n",
    "#import plotly.figure_factory as ff\n",
    "#import plotly.graph_objs as go\n",
    "from csv import reader\n",
    "from matplotlib.pyplot import figure\n",
    "\n",
    "#py.init_notebook_mode(connected=True)\n",
    "\n",
    "#py_config = {'displayModeBar': False, 'showLink': False, 'editable': False}\n",
    "\n",
    "#from ipywidgets import interact, interactive, fixed, interact_manual, widgets"
   ]
  },
  {
   "cell_type": "code",
   "execution_count": 2,
   "metadata": {},
   "outputs": [],
   "source": [
    "#list_of_companies_number = ['1080']\n",
    "#list_of_companies_number = ['13113']\n",
    "\n",
    "list_of_companies_number = ['1080', '1113', '1221', '1229', '1243', '1388', '1431', '1472', '1694', '1769', '1865', '1907', '1956', '2028',\n",
    "                           '2050', '2051', '2057', '2094', '2197', '2290', '2368', '2645', '2651', '2730', '2748', '2813', '2822', '2890', \n",
    "                           '3022', '3035', '3107', '3161', '3388', '3459', '3757', '3879', '4060', '4154', '4218', '4320', '4481', \n",
    "                            '4549', '4575', '4618', '4695', '4736', '4799', '4851', '5836', '7843', '7858', '8080', '9034', '9058', '9061',\n",
    "                           '9062', '9063', '9064', '9065', '9067', '9069', '9074', '9086', '9094', '9265', '9266', '9268', '9269',\n",
    "                            '9270', '9761', '10166', '10470', '10484', '10508', '10795', '10887', '11038', '11234', '11244', '11390', '11399',\n",
    "                           '11583','11618','11714', '11867', '11869', '11946', '12059', '12098', '12255', '12327', '12417', '12456', '12534',\n",
    "                           '12552', '12713', '13003', '13061', '13113']"
   ]
  },
  {
   "cell_type": "code",
   "execution_count": 3,
   "metadata": {},
   "outputs": [
    {
     "data": {
      "text/plain": [
       "99"
      ]
     },
     "execution_count": 3,
     "metadata": {},
     "output_type": "execute_result"
    }
   ],
   "source": [
    "len(list_of_companies_number)"
   ]
  },
  {
   "cell_type": "code",
   "execution_count": 4,
   "metadata": {},
   "outputs": [],
   "source": [
    "help_time = []"
   ]
  },
  {
   "cell_type": "code",
   "execution_count": 5,
   "metadata": {},
   "outputs": [],
   "source": [
    "#shape = [(nr of company, every possible timeslot from 8.01 till 16.30, bid/ask, price/volume, 5 best offers from 9.15!))]\n",
    "data = np.zeros(shape = (100, 5100,2,2,5)) \n",
    "#data =  np.zeros(shape = (100, 5100,3)) "
   ]
  },
  {
   "cell_type": "code",
   "execution_count": null,
   "metadata": {},
   "outputs": [],
   "source": []
  },
  {
   "cell_type": "code",
   "execution_count": 6,
   "metadata": {},
   "outputs": [],
   "source": [
    "def get_k_best_offers(record, k=5):\n",
    "    count = 0\n",
    "    count_bid = 0\n",
    "    count_ask = 0\n",
    "    five_best_bids_and_asks = np.zeros(shape = (2,2,5))\n",
    "    while(record[count]!='ASK'):\n",
    "        count+=1\n",
    "    for counter in range(1,k*2 + 1):\n",
    "        #bid\n",
    "        if record[count-counter]=='BID':\n",
    "            continue\n",
    "        five_best_bids_and_asks[0][counter%2][(counter-1)//2]=record[count-counter]\n",
    "        #ask\n",
    "        five_best_bids_and_asks[1][(counter-1)%2][(counter-1)//2]=record[count+counter]\n",
    "        \n",
    "    return five_best_bids_and_asks"
   ]
  },
  {
   "cell_type": "code",
   "execution_count": 7,
   "metadata": {},
   "outputs": [],
   "source": [
    "def calc_semi_var(elements):\n",
    "    mean = np.mean(elements)\n",
    "    semi_var = 0\n",
    "    for i in elements:\n",
    "        if i<mean:\n",
    "            semi_var += (mean-i)**2\n",
    "    return semi_var"
   ]
  },
  {
   "cell_type": "code",
   "execution_count": 8,
   "metadata": {},
   "outputs": [],
   "source": [
    "def get_mid_price(record): #shape = (2,2,5) (bid/ask, price/volume, best offers):\n",
    "    return (record[1][0][0]+record[0][0][0])/2"
   ]
  },
  {
   "cell_type": "code",
   "execution_count": 9,
   "metadata": {},
   "outputs": [],
   "source": [
    "def get_true_price(record): # Qa*Pb/(Qa+Qb) + Qb*Pa/(Qa+Qb)\n",
    "    Qa=record[1][1][0] #ask quantity\n",
    "    Qb=record[0][1][0] #bid quantity\n",
    "    Q=Qa+Qb\n",
    "    Pa=record[1][0][0] #ask price\n",
    "    Pb=record[0][0][0] #bid price\n",
    "    return Qa*Pb/(Q+1e-10) + Qb*Pa/(Q+1e-10)"
   ]
  },
  {
   "cell_type": "code",
   "execution_count": 10,
   "metadata": {},
   "outputs": [],
   "source": [
    "def get_sweep_to_fill_price(record, order_size, midprice):\n",
    "    record=record[1] # sweep asks\n",
    "    order_left = order_size\n",
    "    counter=0\n",
    "    weighted_price = 0\n",
    "    while order_left>0:\n",
    "        curr_vol = record[1][counter]\n",
    "        curr_price = record[0][counter]\n",
    "        if curr_vol >= order_left:\n",
    "            weighted_price+=order_left*curr_price\n",
    "            order_left =0\n",
    "        else:\n",
    "            weighted_price+=curr_vol*curr_price\n",
    "            order_left-=curr_vol\n",
    "        counter+=1\n",
    "        if counter==5:\n",
    "            #print(\"Unable to fill an order\")\n",
    "            return midprice\n",
    "    return weighted_price/order_size\n",
    "    "
   ]
  },
  {
   "cell_type": "code",
   "execution_count": 11,
   "metadata": {},
   "outputs": [],
   "source": [
    "def apply_moving_average(record, num_of_days_prev):\n",
    "    for i in range(num_of_days_prev, record.shape[0]):\n",
    "        record[i] = np.sum(record[i-num_of_days_prev+1:i+1])/num_of_days_prev\n",
    "    return record"
   ]
  },
  {
   "cell_type": "code",
   "execution_count": 12,
   "metadata": {},
   "outputs": [],
   "source": [
    "def index_to_time(index):\n",
    "    hour=index//60\n",
    "    minute=index%60\n",
    "    return hour+8, minute+1, 0\n",
    "def time_tuple_to_hr_mn_str(time_tuple):\n",
    "    if time_tuple[0]<10:\n",
    "        hour='0'+str(time_tuple[0])\n",
    "    else:\n",
    "        hour=str(time_tuple[0])\n",
    "    if time_tuple[1]<10:\n",
    "        minute='0'+str(time_tuple[1])\n",
    "    else:\n",
    "        minute=str(time_tuple[1])\n",
    "    return hour+':'+minute"
   ]
  },
  {
   "cell_type": "code",
   "execution_count": 13,
   "metadata": {},
   "outputs": [],
   "source": [
    "def get_true_price_after_sweep_to_fill(record, order_size, midprice):\n",
    "    curr_record = record\n",
    "    order_left = order_size\n",
    "    counter=0\n",
    "    while order_left>0:\n",
    "        curr_vol = curr_record[1][1][counter]\n",
    "        if curr_vol >= order_left:\n",
    "            curr_record[1][1][counter]-=order_left\n",
    "            order_left =0\n",
    "            counter-=1\n",
    "        else:\n",
    "            curr_record[1][1][counter] = 0\n",
    "            order_left-=curr_vol\n",
    "        counter+=1\n",
    "        if counter==5:\n",
    "            print(\"Unable to fill an order\", order_size)\n",
    "            return midprice\n",
    "    Qa=0 #ask quantity\n",
    "    Qb=0 #bid quantity\n",
    "    Pa=0 #ask price\n",
    "    Pb=0 #bid price\n",
    "    row_in_queue = 0\n",
    "    while curr_record[1][1][row_in_queue]==0:\n",
    "        row_in_queue+=1\n",
    "    Qa=curr_record[1][1][row_in_queue]\n",
    "    Pa=curr_record[1][0][row_in_queue]\n",
    "    row_in_queue = 0\n",
    "    while curr_record[0][1][row_in_queue]==0:\n",
    "        row_in_queue+=1\n",
    "    Qb=curr_record[0][1][row_in_queue] \n",
    "    Q=Qa+Qb \n",
    "    Pb=curr_record[0][0][row_in_queue] \n",
    "    return Qa*Pb/Q + Qb*Pa/Q"
   ]
  },
  {
   "cell_type": "code",
   "execution_count": 14,
   "metadata": {},
   "outputs": [],
   "source": [
    "def get_order_inbalance(record): #single company\n",
    "    timestamps=record.shape[0]\n",
    "    result=np.zeros(timestamps)\n",
    "    for i in range (0,timestamps):\n",
    "        result[i]=math.log((1e-10+np.sum(record[i][0][1]))/(1e-10+np.sum(record[i][1][1]))) # ln(bid size/ask size)\n",
    "    return result"
   ]
  },
  {
   "cell_type": "markdown",
   "metadata": {},
   "source": [
    "Reading data from files"
   ]
  },
  {
   "cell_type": "code",
   "execution_count": 15,
   "metadata": {},
   "outputs": [],
   "source": [
    "\n",
    "list_of_companies_number = ['1080', '1113', '1221', '1229', '1243', '1388', '1431', '1472', '1694', '1769', '1865', '1907', '1956', '2028',\n",
    "                           '2050', '2051', '2057', '2094', '2197', '2290', '2368', '2645', '2651', '2730', '2748', '2813', '2822', '2890', \n",
    "                           '3022', '3035', '3107', '3161', '3388', '3459', '3757', '3879', '4060', '4154', '4218', '4320', '4481', \n",
    "                            '4549', '4575', '4618', '4695', '4736', '4799', '4851', '5836', '7843', '7858', '8080', '9034', '9058', '9061',\n",
    "                           '9062', '9063', '9064', '9065', '9067', '9069', '9074', '9086', '9094', '9265', '9266', '9268', '9269',\n",
    "                            '9270', '9761', '10166', '10470', '10484', '10508', '10795', '10887', '11038', '11234', '11244', '11390', '11399',\n",
    "                           '11583','11618','11714', '11867', '11869', '11946', '12059', '12098', '12255', '12327', '12417', '12456', '12534',\n",
    "                           '12552', '12713', '13003', '13061', '13113']"
   ]
  },
  {
   "cell_type": "code",
   "execution_count": 16,
   "metadata": {},
   "outputs": [],
   "source": [
    "# open file in read mode\n",
    "mom_count = 0\n",
    "count_comp = -1\n",
    "for num_comp in list_of_companies_number:\n",
    "    with open('FTSE100\\OrderBookSnapshots.csv.'+num_comp+'\\OrderBookSnapshots.csv', 'r') as read_obj:\n",
    "        csv_reader = reader(read_obj)\n",
    "        count = 0\n",
    "        count_comp+=1\n",
    "        prev_hour = 8\n",
    "        prev_date = '20130902'\n",
    "        prev_min=0\n",
    "        prev_elements = []\n",
    "        for row in csv_reader:\n",
    "            elements = row[0].split('\\t')\n",
    "            date_time = elements[0]\n",
    "            date_holder, time_holder = date_time.split(' ')\n",
    "            if date_holder != prev_date:\n",
    "                prev_hour = 8\n",
    "                prev_min=0\n",
    "            cur_hour = int(time_holder[:2])\n",
    "            cur_min = int(time_holder[2:4])\n",
    "            if((cur_hour==8 and cur_min>0) or (cur_hour>8 and cur_hour<16) or (cur_hour==16 and cur_min<=30)):\n",
    "                data[count_comp][count] = get_k_best_offers(elements[1:])  \n",
    "                count+=1"
   ]
  },
  {
   "cell_type": "code",
   "execution_count": null,
   "metadata": {},
   "outputs": [
    {
     "name": "stdout",
     "output_type": "stream",
     "text": [
      "Bad acting day or data, please check both\n",
      " 1 30\n",
      "854.5066 4596 (7, 5, 24)\n",
      "Bad acting day or data, please check both\n",
      " 1 8\n",
      "900.0 4848 (0, 0, 0)\n",
      "Bad acting day or data, please check both\n",
      " 2 30\n",
      "561.9 670 (9, 52, 54)\n",
      "Bad acting day or data, please check both\n",
      " 2 30\n",
      "561.9 670 (9, 52, 54)\n",
      "Bad acting day or data, please check both\n",
      " 2 30\n",
      "561.9 670 (9, 52, 54)\n",
      "Bad acting day or data, please check both\n",
      " 3 30\n",
      "841.9143 11354 (7, 5, 24)\n",
      "Bad acting day or data, please check both\n",
      " 5 30\n",
      "389.3276 3223 (7, 5, 24)\n",
      "Bad acting day or data, please check both\n",
      " 7 30\n",
      "435.4457 4675 (7, 5, 24)\n",
      "Bad acting day or data, please check both\n",
      " 9 30\n",
      "2146.5318 1115 (7, 5, 24)\n",
      "Bad acting day or data, please check both\n",
      " 12 30\n",
      "290.7493 3328 (7, 5, 24)\n",
      "Bad acting day or data, please check both\n",
      " 13 30\n",
      "120.01 100 (7, 5, 24)\n",
      "Bad acting day or data, please check both\n",
      " 16 30\n",
      "1103.1111 414 (7, 5, 24)\n",
      "Bad acting day or data, please check both\n",
      " 17 30\n",
      "1090.5 25000 (17, 37, 50)\n"
     ]
    }
   ],
   "source": [
    "# open file in read mode\n",
    "days={\n",
    "    2:0,\n",
    "    3:1,\n",
    "    4:2,\n",
    "    5:3,\n",
    "    6:4,\n",
    "    9:5,\n",
    "    10:6,\n",
    "    11:7,\n",
    "    12:8,\n",
    "    13:9,\n",
    "}\n",
    "if_first_row = True\n",
    "which_comp = 0\n",
    "\n",
    "#comp = list_of_companies_number\n",
    "comp = list_of_companies_number\n",
    "comp_id = -1\n",
    "trades = np.empty( shape=(len(comp), 10), dtype = list)\n",
    "for i in range(trades.shape[0]):\n",
    "    for j in range(10):\n",
    "        trades[i,j]=list()\n",
    "for num_comp in comp:\n",
    "    comp_id+=1\n",
    "    if_first_row = True\n",
    "    with open('FTSE100trades\\TradeDetailsExtract.'+num_comp+'.csv', 'r') as read_obj:\n",
    "        csv_reader = reader(read_obj)\n",
    "        for row in csv_reader:\n",
    "            if if_first_row:\n",
    "                if_first_row = False\n",
    "                continue\n",
    "            date = row[4]\n",
    "            date_elem = date.split(\" \")\n",
    "            act_day = int(date_elem[0][8:10])\n",
    "            time_tuple=time.strptime(date_elem[1], '%H:%M:%S')\n",
    "            time_tuple=(time_tuple.tm_hour, time_tuple.tm_min, time_tuple.tm_sec)\n",
    "          #  trades=np.append(trades, (row[2], row[3], time_tuple),  axis=1)\n",
    "            #print(\"XD\", comp_id, act_day, date_elem, row[2], row[3], time_tuple)\n",
    "            try:\n",
    "                trades[comp_id][days[act_day]].append((float(row[2]), int(row[3]), time_tuple)) # price, volume, timestamp\n",
    "            except:\n",
    "                print(\"Bad acting day or data, please check both\\n\", comp_id, act_day)\n",
    "                print((row[2]), (row[3]), time_tuple)"
   ]
  },
  {
   "cell_type": "code",
   "execution_count": null,
   "metadata": {},
   "outputs": [],
   "source": []
  },
  {
   "cell_type": "code",
   "execution_count": null,
   "metadata": {},
   "outputs": [],
   "source": [
    "data.shape\n",
    "trades.shape"
   ]
  },
  {
   "cell_type": "markdown",
   "metadata": {},
   "source": [
    "# Plot of sweep to fill costs of company nr 1080 (Exhibit 1)"
   ]
  },
  {
   "cell_type": "code",
   "execution_count": null,
   "metadata": {},
   "outputs": [],
   "source": [
    "bid_and_ask_through_day = data[98][:510]"
   ]
  },
  {
   "cell_type": "code",
   "execution_count": null,
   "metadata": {},
   "outputs": [],
   "source": [
    "order_sizes = [500, 1000, 2000, 3000, 4000, 5000]\n",
    "mid_prices = np.zeros(510)\n",
    "true_prices = np.zeros(510)\n",
    "average_fill_prices = np.zeros(shape = (510, 6))"
   ]
  },
  {
   "cell_type": "code",
   "execution_count": null,
   "metadata": {},
   "outputs": [],
   "source": [
    "for i in range(510):\n",
    "    mid_prices[i] = get_mid_price(bid_and_ask_through_day[i])\n",
    "    true_prices[i] = get_true_price(bid_and_ask_through_day[i])\n",
    "    for j in range(6):\n",
    "        average_fill_prices[i][j] = get_sweep_to_fill_price(bid_and_ask_through_day[i], order_sizes[j], true_prices[i])"
   ]
  },
  {
   "cell_type": "code",
   "execution_count": null,
   "metadata": {},
   "outputs": [],
   "source": [
    "plt.plot(np.arange(500), average_fill_prices[10:,4]-mid_prices[10:])\n",
    "plt.plot(np.arange(500), average_fill_prices[10:,4]-true_prices[10:])\n",
    "plt.grid()\n",
    "plt.legend(['mid price', 'true price'])"
   ]
  },
  {
   "cell_type": "markdown",
   "metadata": {},
   "source": [
    "mid price\n"
   ]
  },
  {
   "cell_type": "code",
   "execution_count": null,
   "metadata": {},
   "outputs": [],
   "source": [
    "figure(figsize=(8, 6), dpi=80)\n",
    "bid_and_ask_through_day = data[98]\n",
    "order_sizes = [500, 1000, 2000, 3000, 4000, 5000]\n",
    "mid_prices = np.zeros(510)\n",
    "average_fill_prices = np.zeros(shape = (510, 6))\n",
    "for i in range(5100):\n",
    "    mid_prices[i%510] += get_mid_price(bid_and_ask_through_day[i])\n",
    "    curr_mid_price =  get_mid_price(bid_and_ask_through_day[i])\n",
    "    for j in range(6):\n",
    "        average_fill_prices[i%510][j] += get_sweep_to_fill_price(bid_and_ask_through_day[i], order_sizes[j],curr_mid_price)\n",
    "for i in range(510):\n",
    "    mid_prices[i]/=10\n",
    "    average_fill_prices[i]/=10\n",
    "#print(average_fill_prices[:,0])\n",
    "mid_prices = apply_moving_average(np.copy(mid_prices), 5)\n",
    "for i in range(6):\n",
    "    average_fill_prices[:,i] = apply_moving_average(np.copy(average_fill_prices[:,i]), 5)\n",
    "#average_fill_prices = apply_moving_average(np.copy(average_fill_prices), 3)\n",
    "\n",
    "plot_since=30\n",
    "for i in np.arange(len(order_sizes)):\n",
    "    plt.plot(np.arange(510-plot_since), average_fill_prices[plot_since:,i]-true_prices[plot_since:])\n",
    "x_axis=np.asarray([time_tuple_to_hr_mn_str(index_to_time(x+plot_since)) for x in np.arange(510-plot_since, step=60)])\n",
    "plt.xticks(ticks=np.arange(510-plot_since, step=60), labels=x_axis, rotation=45)\n",
    "plt.grid()\n",
    "plt.legend( order_sizes)"
   ]
  },
  {
   "cell_type": "markdown",
   "metadata": {},
   "source": [
    "true price"
   ]
  },
  {
   "cell_type": "code",
   "execution_count": null,
   "metadata": {},
   "outputs": [],
   "source": [
    "figure(figsize=(8, 6), dpi=80)\n",
    "bid_and_ask_through_day = data[98]\n",
    "order_sizes = [500, 1000, 2000, 3000, 4000, 5000]\n",
    "true_prices = np.zeros(510)\n",
    "average_fill_prices = np.zeros(shape = (510, 6))\n",
    "for i in range(5100):\n",
    "    true_prices[i%510] += get_true_price(bid_and_ask_through_day[i])\n",
    "    curr_true_price =  get_true_price(bid_and_ask_through_day[i])\n",
    "    for j in range(6):\n",
    "        average_fill_prices[i%510][j] += get_sweep_to_fill_price(bid_and_ask_through_day[i], order_sizes[j],curr_true_price)\n",
    "for i in range(510):\n",
    "    true_prices[i]/=10\n",
    "    average_fill_prices[i]/=10\n",
    "#print(average_fill_prices[:,0])\n",
    "true_prices = apply_moving_average(np.copy(true_prices), 5)\n",
    "for i in range(6):\n",
    "    average_fill_prices[:,i] = apply_moving_average(np.copy(average_fill_prices[:,i]), 5)\n",
    "#average_fill_prices = apply_moving_average(np.copy(average_fill_prices), 3)\n",
    "\n",
    "plot_since=30\n",
    "for i in np.arange(len(order_sizes)):\n",
    "    plt.plot(np.arange(510-plot_since), average_fill_prices[plot_since:,i]-true_prices[plot_since:])\n",
    "x_axis=np.asarray([time_tuple_to_hr_mn_str(index_to_time(x+plot_since)) for x in np.arange(510-plot_since, step=60)])\n",
    "plt.xticks(ticks=np.arange(510-plot_since, step=60), labels=x_axis, rotation=45)\n",
    "plt.grid()\n",
    "plt.legend( order_sizes)"
   ]
  },
  {
   "cell_type": "code",
   "execution_count": null,
   "metadata": {},
   "outputs": [],
   "source": [
    "bid_and_ask_through_day[0]"
   ]
  },
  {
   "cell_type": "code",
   "execution_count": null,
   "metadata": {},
   "outputs": [],
   "source": [
    "order_inbalance_one_day=get_order_inbalance(data[0][:510])"
   ]
  },
  {
   "cell_type": "markdown",
   "metadata": {},
   "source": [
    "Plotting Bid, ask and true market prices(exhibit 6)"
   ]
  },
  {
   "cell_type": "code",
   "execution_count": null,
   "metadata": {},
   "outputs": [],
   "source": [
    "mid_price_one_day=np.zeros(510)\n",
    "true_price_one_day=np.zeros(510)\n",
    "\n",
    "for i in range (0,510):\n",
    "    mid_price_one_day[i]=get_mid_price(data[0][i])\n",
    "    true_price_one_day[i]=get_true_price(data[0][i])"
   ]
  },
  {
   "cell_type": "code",
   "execution_count": null,
   "metadata": {},
   "outputs": [],
   "source": [
    "figure(figsize=(8, 6), dpi=80)\n",
    "\n",
    "#plt.plot(np.arange(510), order_inbalance_one_day)#, mid_price_one_day)\n",
    "\n",
    "#plt.plot(np.arange(510),  mid_price_one_day)\n",
    "plt.plot(np.arange(510),  true_price_one_day)\n",
    "plt.plot(np.arange(510),  data[0,:510,0,0,0])\n",
    "plt.plot(np.arange(510),  data[0,:510,1,0,0])\n",
    "x_axis=np.asarray([time_tuple_to_hr_mn_str(index_to_time(x)) for x in np.arange(510, step=60)])\n",
    "plt.xticks(ticks=np.arange(510, step=60), labels=x_axis, rotation=45)\n",
    "plt.legend(['true price', 'best bid', 'best ask'])"
   ]
  },
  {
   "cell_type": "markdown",
   "metadata": {},
   "source": [
    "Plotting Sweep to Fill Costs vs Order Size (exhibit 8 and 9)?????"
   ]
  },
  {
   "cell_type": "code",
   "execution_count": null,
   "metadata": {},
   "outputs": [],
   "source": [
    "figure(figsize=(8, 6), dpi=80)\n",
    "#bid_and_ask_through_first_two_hours = data[80][:120]\n",
    "order_sizes_limit = 9000\n",
    "true_price = get_true_price(data[80][40])\n",
    "average_fill_prices = np.zeros(shape = (order_sizes_limit))\n",
    "for i in range(1,order_sizes_limit+1):\n",
    "    average_fill_prices[i-1] = get_sweep_to_fill_price(data[80][40], i,true_price)\n",
    "plt.plot(average_fill_prices-true_price)"
   ]
  },
  {
   "cell_type": "code",
   "execution_count": null,
   "metadata": {},
   "outputs": [],
   "source": [
    "data[80][40]"
   ]
  },
  {
   "cell_type": "code",
   "execution_count": null,
   "metadata": {},
   "outputs": [],
   "source": [
    "order_inbalance_10_days=get_order_inbalance(data[1])\n",
    "mid_price_10_days=[get_mid_price(data[1][i]) for i in range (0, 5100)]"
   ]
  },
  {
   "cell_type": "code",
   "execution_count": null,
   "metadata": {},
   "outputs": [],
   "source": [
    "company=90\n",
    "order_inbalance_10_days=[round(i, 1) for i in get_order_inbalance(data[company])]\n",
    "mid_price_10_days=np.asarray([get_mid_price(data[company][i]) for i in range (5100)])\n",
    "price_diff=mid_price_10_days[:5099]-mid_price_10_days[1:]\n",
    "inbalance_averageprice={}\n",
    "for i in range(len(price_diff)):\n",
    "    if order_inbalance_10_days[i] in inbalance_averageprice.keys():\n",
    "        inbalance_averageprice[order_inbalance_10_days[i]].append(price_diff[i])\n",
    "    else:\n",
    "        inbalance_averageprice[order_inbalance_10_days[i]]=[price_diff[i]]\n",
    "for k in inbalance_averageprice.keys():\n",
    "    inbalance_averageprice[k]=np.average(np.asarray(inbalance_averageprice[k]))"
   ]
  },
  {
   "cell_type": "code",
   "execution_count": null,
   "metadata": {},
   "outputs": [],
   "source": [
    "inbalance_averageprice_array=np.sort( np.asarray([[k, v] for k,v in inbalance_averageprice.items()]), axis=0)\n",
    "figure(figsize=(8, 6), dpi=80)\n",
    "\n",
    "plt.plot(inbalance_averageprice_array[5:,0], inbalance_averageprice_array[5:,1])\n",
    "\n",
    "plt.grid()"
   ]
  },
  {
   "cell_type": "code",
   "execution_count": null,
   "metadata": {},
   "outputs": [],
   "source": [
    "inbalance_averageprice_array.shape"
   ]
  },
  {
   "cell_type": "markdown",
   "metadata": {},
   "source": [
    "Exhibit 17 -> Market impact for E-mini S&P Futures on a Typical Day (how to calculate true price after market impact???)"
   ]
  },
  {
   "cell_type": "code",
   "execution_count": null,
   "metadata": {},
   "outputs": [],
   "source": [
    "company_id = 15\n",
    "order_sizes = [100, 250, 500, 1000, 2500, 5000]\n",
    "num_of_timestamps = int((5100/5)-1)\n",
    "modulo = int(510/5-1)\n",
    "differences_in_prices = np.zeros(shape = (modulo, 6))\n",
    "for i in range(num_of_timestamps):\n",
    "    for order_size_ind in range(len(order_sizes)):\n",
    "        price_before = get_true_price(np.copy(data[company_id][i*5]))\n",
    "        price_after = get_true_price_after_sweep_to_fill(np.copy(data[company_id][i*5]), order_sizes[order_size_ind], price_before)\n",
    "        differences_in_prices[i%modulo][order_size_ind] += abs(price_after - price_before)\n",
    "figure(figsize=(8, 6), dpi=80)\n",
    "for i in range(modulo):\n",
    "    differences_in_prices[i]/=10\n",
    "for k in range(len(order_sizes)):\n",
    "    plt.plot(np.arange(modulo), apply_moving_average(np.copy(differences_in_prices[:,k]), 3))\n",
    "plt.legend( order_sizes)\n",
    "    "
   ]
  },
  {
   "cell_type": "markdown",
   "metadata": {},
   "source": [
    "# Exhibit 3&4\n"
   ]
  },
  {
   "cell_type": "code",
   "execution_count": null,
   "metadata": {},
   "outputs": [],
   "source": [
    "comp_id=1\n",
    "order_book_comp=np.empty(shape=(10, 510, 2, 2, 5))\n",
    "order_inbalance_comp=np.empty(shape=order_book_comp.shape[:2])\n",
    "for i in range(10): #we have data from 10 days, 2 work weeks\n",
    "    order_book_comp[i]=data[comp_id, 510*i:510*(i+1)]\n",
    "    order_inbalance_comp[i]=get_order_inbalance(order_book_comp[i])\n",
    "\n",
    "trades_time_comp=np.copy(trades[comp_id])\n",
    "for day in trades_time_comp:\n",
    "    day.sort(key=lambda hour: hour[2]) # sort by trade time\n",
    "time_to_next_trade=np.empty(shape=order_inbalance_comp.shape)"
   ]
  },
  {
   "cell_type": "code",
   "execution_count": null,
   "metadata": {},
   "outputs": [],
   "source": [
    "time_to_next_trade.shape"
   ]
  },
  {
   "cell_type": "code",
   "execution_count": null,
   "metadata": {},
   "outputs": [],
   "source": [
    "trades[0].shape"
   ]
  },
  {
   "cell_type": "code",
   "execution_count": null,
   "metadata": {},
   "outputs": [],
   "source": [
    "for day in range(time_to_next_trade.shape[0]):\n",
    "    trade_counter=0\n",
    "    for book_counter in range(time_to_next_trade.shape[1]):\n",
    "        #print(\"XD\", book_counter)\n",
    "        time_tuple=index_to_time(book_counter)\n",
    "        while time_tuple>=trades_time_comp[day][trade_counter][2]:\n",
    "            trade_counter+=1\n",
    "        trade_time_tuple=trades_time_comp[day][trade_counter][2]\n",
    "        time_to_next_trade[day, book_counter]=(timedelta(hours=trade_time_tuple[0],minutes=trade_time_tuple[1],seconds=trade_time_tuple[2])-timedelta(hours=time_tuple[0],minutes=time_tuple[1],seconds=time_tuple[2])).seconds\n",
    "        # time to next trade given in seconds\n"
   ]
  },
  {
   "cell_type": "code",
   "execution_count": null,
   "metadata": {
    "scrolled": false
   },
   "outputs": [],
   "source": [
    "figure(figsize=(8, 6), dpi=80)\n",
    "\n",
    "plt.axes(xlabel='order inbalance', ylabel='time to next trade (s)')\n",
    "plt.scatter(order_inbalance_comp.flatten(), time_to_next_trade.flatten())\n",
    "plt.grid()\n",
    "plt.show()"
   ]
  },
  {
   "cell_type": "code",
   "execution_count": null,
   "metadata": {},
   "outputs": [],
   "source": [
    "next_trades_prices=np.empty(shape=order_inbalance_comp.shape)\n",
    "for day in range(time_to_next_trade.shape[0]):\n",
    "    trade_counter=0\n",
    "    for book_counter in range(time_to_next_trade.shape[1]):\n",
    "        time_tuple=index_to_time(book_counter)\n",
    "        while time_tuple>=trades_time_comp[day][trade_counter][2]:\n",
    "            trade_counter+=1\n",
    "        next_trade_price=trades_time_comp[day][trade_counter][0]\n",
    "        next_trades_prices[day, book_counter]=next_trade_price\n",
    "        # time to next trade given in seconds"
   ]
  },
  {
   "cell_type": "code",
   "execution_count": null,
   "metadata": {},
   "outputs": [],
   "source": [
    "mid_market_prices=np.empty(shape=order_inbalance_comp.shape)\n",
    "for day in range(order_book_comp.shape[0]):\n",
    "    for record in range(order_book_comp.shape[1]):\n",
    "        mid_market_prices[day, record]=get_mid_price(order_book_comp[day, record])"
   ]
  },
  {
   "cell_type": "code",
   "execution_count": null,
   "metadata": {
    "scrolled": true
   },
   "outputs": [],
   "source": [
    "for day in range(mid_market_prices.shape[0]):\n",
    "    for record in range(mid_market_prices.shape[1]):\n",
    "        if mid_market_prices[day,record]==0:\n",
    "            print(day, record)"
   ]
  },
  {
   "cell_type": "code",
   "execution_count": null,
   "metadata": {},
   "outputs": [],
   "source": [
    "figure(figsize=(8, 6), dpi=80)\n",
    "day=5\n",
    "plt.axes(xlabel='order inbalance', ylabel='next trade price')\n",
    "plt.scatter(order_inbalance_comp[day].flatten(), (next_trades_prices-mid_market_prices)[day].flatten())\n",
    "max_next_trade_price=max((next_trades_prices-mid_market_prices)[day].flatten())\n",
    "min_next_trade_price=min((next_trades_prices-mid_market_prices)[day].flatten())\n",
    "plt.yticks(ticks=np.arange(start=min_next_trade_price, stop=max_next_trade_price, step=0.5))\n",
    "plt.grid()\n",
    "plt.show()"
   ]
  },
  {
   "cell_type": "markdown",
   "metadata": {},
   "source": [
    "# Exhibit 11&12\n"
   ]
  },
  {
   "cell_type": "code",
   "execution_count": null,
   "metadata": {},
   "outputs": [],
   "source": [
    "interval=1\n",
    "comp_id=3\n",
    "order_book_comp=np.empty(shape=(10, 510, 2, 2, 5))\n",
    "for i in range(10): #we have data from 10 days, 2 work weeks\n",
    "    order_book_comp[i]=data[comp_id, 510*i:510*(i+1)]\n",
    "\n",
    "trades_time_comp=np.copy(trades[comp_id])\n",
    "for day in trades_time_comp:\n",
    "    day.sort(key=lambda hour: hour[2]) # sort by trade time\n",
    "\n",
    "timestamps=510//interval\n",
    "# buys on even, sells on odd\n",
    "vwaps=np.zeros(shape=(10,2*timestamps)) \n",
    "order_sizes=np.zeros(shape=(10,2*timestamps))\n",
    "#vwaps_sells=np.zeros(shape=(10,timestamps))\n",
    "#order_sizes_sells=np.zeros(shape=(10,timestamps))\n",
    "\n"
   ]
  },
  {
   "cell_type": "code",
   "execution_count": null,
   "metadata": {},
   "outputs": [],
   "source": [
    "empty_orders=0\n",
    "for day in range(vwaps.shape[0]):\n",
    "    trade_counter=0\n",
    "    for counter in range(vwaps.shape[1]//2):\n",
    "        true_price=get_true_price(order_book_comp[day,counter])\n",
    "        time_tuple=index_to_time(interval*(counter+1))\n",
    "        buys=[]\n",
    "        sells=[]\n",
    "        buys_weights=[]\n",
    "        sells_weights=[]\n",
    "        while time_tuple>trades_time_comp[day][trade_counter][2]:\n",
    "            if true_price<trades_time_comp[day][trade_counter][0]:\n",
    "                buys.append(trades_time_comp[day][trade_counter][0])\n",
    "                buys_weights.append(trades_time_comp[day][trade_counter][1])\n",
    "            else:\n",
    "                sells.append(trades_time_comp[day][trade_counter][0])\n",
    "                sells_weights.append(trades_time_comp[day][trade_counter][1])               \n",
    "            trade_counter+=1\n",
    "            \n",
    "        # in case there were no sells or buys during the interval            \n",
    "        try:\n",
    "            buys_avg, buys_vol=np.average(buys, weights=buys_weights, returned=True)\n",
    "        except:\n",
    "            buys_avg=true_price\n",
    "            buys_vol=0\n",
    "            empty_orders+=1\n",
    "        try:\n",
    "            sells_avg, sells_vol=np.average(sells, weights=sells_weights, returned=True)\n",
    "        except:\n",
    "            sells_avg=true_price\n",
    "            sells_vol=0\n",
    "            empty_orders+=1\n",
    "        if sells_vol>10000 or buys_vol>10000:\n",
    "            continue \n",
    "        vwaps[day,2*counter]=buys_avg-true_price\n",
    "        vwaps[day,2*counter +1]=true_price-sells_avg\n",
    "        order_sizes[day,2*counter]=buys_vol\n",
    "        order_sizes[day,2*counter +1]=sells_vol\n",
    "print('{}% of intervals were empty'.format(100*empty_orders/(10*2*timestamps)))"
   ]
  },
  {
   "cell_type": "code",
   "execution_count": null,
   "metadata": {},
   "outputs": [],
   "source": [
    "plt.axes(xlabel='order size', ylabel='vwap impact')\n",
    "plt.scatter(order_sizes.flatten(), vwaps.flatten())"
   ]
  },
  {
   "cell_type": "code",
   "execution_count": null,
   "metadata": {},
   "outputs": [],
   "source": [
    "stacked_vwaps_sizes=np.stack((vwaps.flatten(), order_sizes.flatten()), axis=-1)\n",
    "stacked_vwaps_sizes=np.sort(stacked_vwaps_sizes, axis=0)\n",
    "#np.unique(stacked_vwaps_sizes, return_counts=True)"
   ]
  },
  {
   "cell_type": "code",
   "execution_count": null,
   "metadata": {},
   "outputs": [],
   "source": [
    "np.sort(np.array([[1,2],[1,4],[1,3]]), axis=0)"
   ]
  },
  {
   "cell_type": "code",
   "execution_count": null,
   "metadata": {},
   "outputs": [],
   "source": [
    "stacked_vwaps_sizes=np.stack((vwaps.flatten(), order_sizes.flatten()), axis=-1)\n",
    "stacked_vwaps_sizes=np.sort(stacked_vwaps_sizes, axis=0)\n",
    "for x in  stacked_vwaps_sizes:#[:,0]\n",
    "    if x[0]:\n",
    "        print(x)"
   ]
  },
  {
   "cell_type": "code",
   "execution_count": null,
   "metadata": {},
   "outputs": [],
   "source": [
    "np.unique(order_sizes, return_counts=True)[1][0]"
   ]
  },
  {
   "cell_type": "code",
   "execution_count": null,
   "metadata": {},
   "outputs": [],
   "source": [
    "np.unique(vwaps, return_counts=True)[1][0]"
   ]
  },
  {
   "cell_type": "code",
   "execution_count": null,
   "metadata": {},
   "outputs": [],
   "source": [
    "vwaps[0].shape"
   ]
  },
  {
   "cell_type": "code",
   "execution_count": null,
   "metadata": {},
   "outputs": [],
   "source": []
  },
  {
   "cell_type": "code",
   "execution_count": null,
   "metadata": {},
   "outputs": [],
   "source": []
  },
  {
   "cell_type": "code",
   "execution_count": null,
   "metadata": {},
   "outputs": [],
   "source": []
  },
  {
   "cell_type": "markdown",
   "metadata": {},
   "source": [
    "**Exhibit 15 & 16**"
   ]
  },
  {
   "cell_type": "code",
   "execution_count": null,
   "metadata": {},
   "outputs": [],
   "source": [
    "company_id = 0\n",
    "how_many_days = trades[company_id].shape[0]\n",
    "num_of_five_min_buck = (7*60+2*30)//5\n",
    "trading_volume_in_buckets = np.zeros(num_of_five_min_buck)\n",
    "open_hour = 8\n",
    "open_min = 30\n",
    "end_hour = 16\n",
    "end_min = 30\n",
    "min_prices_in_buckets = np.ones(num_of_five_min_buck) * 10000000.0\n",
    "max_prices_in_buckets = np.zeros(num_of_five_min_buck)"
   ]
  },
  {
   "cell_type": "code",
   "execution_count": null,
   "metadata": {},
   "outputs": [],
   "source": [
    "for i in range(10): #for every day\n",
    "    for trade in trades[company_id][i]:\n",
    "        trade_time = trade[2]\n",
    "        trade_hour = trade_time[0]\n",
    "        trade_min = trade_time[1]\n",
    "        if (trade_hour<open_hour) or (trade_hour==open_hour and trade_min<open_min) or (trade_hour==end_hour and trade_min>end_min) or trade_hour>end_hour:\n",
    "            #print(trade)\n",
    "            #print(trade_hour<open_hour)\n",
    "            #print(trade_hour==open_hour and trade_min<open_min)\n",
    "            #print(trade_hour==end_hour and trade_min>end_min)\n",
    "            #print(trade_hour)\n",
    "            #print(end_hour)\n",
    "            #print(trade_hour>end_hour)\n",
    "            continue\n",
    "        which_bucket = ((trade_hour-open_hour)*60 + (trade_min-open_min))//5\n",
    "        min_prices_in_buckets[which_bucket] = min(float(min_prices_in_buckets[which_bucket]), float(trade[0]))\n",
    "        max_prices_in_buckets[which_bucket] = max(float(max_prices_in_buckets[which_bucket]), float(trade[0]))\n",
    "        trading_volume_in_buckets[which_bucket] += trade[1]\n",
    "trading_volume_in_buckets/=10 #we take average of all days"
   ]
  },
  {
   "cell_type": "code",
   "execution_count": null,
   "metadata": {},
   "outputs": [],
   "source": [
    "price_volatility_in_buckets = max_prices_in_buckets - min_prices_in_buckets"
   ]
  },
  {
   "cell_type": "code",
   "execution_count": null,
   "metadata": {},
   "outputs": [],
   "source": []
  },
  {
   "cell_type": "code",
   "execution_count": null,
   "metadata": {},
   "outputs": [],
   "source": [
    "figure(figsize=(8, 6), dpi=80)\n",
    "\n",
    "plt.plot(trading_volume_in_buckets/1000)"
   ]
  },
  {
   "cell_type": "code",
   "execution_count": null,
   "metadata": {},
   "outputs": [],
   "source": [
    "figure(figsize=(8, 6), dpi=80)\n",
    "plt.plot(price_volatility_in_buckets)"
   ]
  },
  {
   "cell_type": "markdown",
   "metadata": {},
   "source": []
  },
  {
   "cell_type": "code",
   "execution_count": null,
   "metadata": {},
   "outputs": [],
   "source": []
  },
  {
   "cell_type": "markdown",
   "metadata": {},
   "source": [
    "# plot ORDER_IMPACT & VWAP\n"
   ]
  },
  {
   "cell_type": "code",
   "execution_count": null,
   "metadata": {},
   "outputs": [],
   "source": [
    "def get_order_inbalance_interval(record, interval=1): #interval in minutes\n",
    "    timestamps=record.shape[0]\n",
    "    result=np.zeros(timestamps//interval)\n",
    "    for i in range (0,timestamps//interval):\n",
    "        for j in range(interval):\n",
    "            result[i]+=math.log((1e-10+np.sum(record[i+j][0][1]))/(1e-10+np.sum(record[i+j][1][1]))) # ln(bid size/ask size)\n",
    "    return result"
   ]
  },
  {
   "cell_type": "code",
   "execution_count": null,
   "metadata": {},
   "outputs": [],
   "source": [
    "def get_order_inbalance_comp(comp_id=1, interval=1, time_to_skip=0): #interval in minutes\n",
    "    order_inbalance_comp=np.empty(shape=(10,(510-time_to_skip)//interval))\n",
    "    for i in range(10): #we have data from 10 days, 2 work weeks\n",
    "        order_inbalance_comp[i]=get_order_inbalance_interval(data[comp_id, 510*i+time_to_skip:510*(i+1)], interval)\n",
    "    return order_inbalance_comp"
   ]
  },
  {
   "cell_type": "code",
   "execution_count": null,
   "metadata": {},
   "outputs": [],
   "source": [
    "def get_vwap_and_ordersizes_comp(comp_id=3, interval=5, time_to_skip=0, use_abs=True):\n",
    "    order_book_comp=np.empty(shape=(10, 510-time_to_skip, 2, 2, 5))\n",
    "    for i in range(10): #we have data from 10 days, 2 work weeks\n",
    "        order_book_comp[i]=data[comp_id, 510*i+time_to_skip:510*(i+1)]\n",
    "\n",
    "    trades_time_comp=np.copy(trades[comp_id])\n",
    "    for day in trades_time_comp:\n",
    "        day.sort(key=lambda hour: hour[2]) # sort by trade time\n",
    "\n",
    "    timestamps=(510-time_to_skip)//interval\n",
    "    # buys on even, sells on odd\n",
    "    vwaps=np.zeros(shape=(10,2*timestamps)) \n",
    "    order_sizes=np.zeros(shape=(10,2*timestamps))\n",
    "    #vwaps_sells=np.zeros(shape=(10,timestamps))\n",
    "    empty_sells=0\n",
    "    empty_buys=0\n",
    "    for day in range(vwaps.shape[0]):\n",
    "        trade_counter=0\n",
    "        for counter in range(vwaps.shape[1]//2):\n",
    "            true_price=get_true_price(order_book_comp[day,counter])\n",
    "            time_tuple=index_to_time(interval*(counter+1))\n",
    "            buys=[]\n",
    "            sells=[]\n",
    "            buys_weights=[]\n",
    "            sells_weights=[]\n",
    "            while time_tuple>trades_time_comp[day][trade_counter][2]:\n",
    "                if true_price<trades_time_comp[day][trade_counter][0]:\n",
    "                    buys.append(trades_time_comp[day][trade_counter][0])\n",
    "                    buys_weights.append(trades_time_comp[day][trade_counter][1])\n",
    "                else:\n",
    "                    sells.append(trades_time_comp[day][trade_counter][0])\n",
    "                    sells_weights.append(trades_time_comp[day][trade_counter][1])               \n",
    "                trade_counter+=1\n",
    "            try:\n",
    "                buys_avg, buys_vol=np.average(buys, weights=buys_weights, returned=True)\n",
    "                vwaps[day,2*counter]=buys_avg-true_price\n",
    "            except:\n",
    "                buys_avg=true_price\n",
    "                buys_vol=0\n",
    "                empty_buys+=1\n",
    "                vwaps[day,2*counter]=math.nan\n",
    "            try:\n",
    "                sells_avg, sells_vol=np.average(sells, weights=sells_weights, returned=True)\n",
    "                if use_abs:\n",
    "                    vwaps[day,2*counter +1]=true_price-sells_avg\n",
    "                else:\n",
    "                    vwaps[day,2*counter +1]=sells_avg-true_price \n",
    "            except:\n",
    "                sells_avg=true_price\n",
    "                sells_vol=0\n",
    "                empty_sells+=1\n",
    "                vwaps[day,2*counter +1]=math.nan\n",
    "            if sells_vol>10000 or buys_vol>10000:\n",
    "                continue \n",
    "                           \n",
    "            order_sizes[day,2*counter]=buys_vol\n",
    "            order_sizes[day,2*counter +1]=sells_vol\n",
    "    print('{}% of intervals were SELL empty'.format(100*empty_sells/(10*2*timestamps)))\n",
    "    print('{}% of intervals were BUY empty'.format(100*empty_buys/(10*2*timestamps)))    \n",
    "    return vwaps, order_sizes"
   ]
  },
  {
   "cell_type": "code",
   "execution_count": null,
   "metadata": {},
   "outputs": [],
   "source": [
    "vwap.shape\n"
   ]
  },
  {
   "cell_type": "code",
   "execution_count": null,
   "metadata": {
    "scrolled": true
   },
   "outputs": [],
   "source": [
    "company=1\n",
    "interval=5\n",
    "time_to_skip=30\n",
    "vwap, _=get_vwap_and_ordersizes_comp(company, interval, time_to_skip, use_abs=True)\n",
    "order_inbalance=get_order_inbalance_comp(company, interval, time_to_skip)\n",
    "\n",
    "figure(figsize=(8, 6), dpi=80)\n",
    "plt.axes(xlabel='order inbalance', ylabel='vwap impact')\n",
    "plt.scatter(np.repeat(order_inbalance, repeats=2, axis=1), vwap)\n",
    "plt.grid()\n"
   ]
  },
  {
   "cell_type": "markdown",
   "metadata": {},
   "source": [
    "# plot NEXTORDERSIZE & S2FIMPACT"
   ]
  },
  {
   "cell_type": "code",
   "execution_count": null,
   "metadata": {},
   "outputs": [],
   "source": [
    "def get_next_trade_x_comp(comp_id=3, interval=5, time_to_skip=0, get_x='price'):\n",
    "\n",
    "    order_book_comp=np.empty(shape=(10, 510-time_to_skip, 2, 2, 5))\n",
    "    for i in range(10): #we have data from 10 days, 2 work weeks\n",
    "        order_book_comp[i]=data[comp_id, 510*i+time_to_skip:510*(i+1)]\n",
    "\n",
    "    trades_time_comp=np.copy(trades[comp_id])\n",
    "    for day in trades_time_comp:\n",
    "        day.sort(key=lambda hour: hour[2]) # sort by trade time\n",
    "    timestamps=(510-time_to_skip)//interval\n",
    "        \n",
    "    next_trade_x=np.empty(shape=(10,timestamps))\n",
    "    for day in range(time_to_next_trade.shape[0]):\n",
    "        trade_counter=0\n",
    "        start_time=index_to_time(0+time_to_skip)\n",
    "        while start_time>=trades_time_comp[day][trade_counter][2]:\n",
    "            trade_counter+=1\n",
    "        for book_counter in range(timestamps):            \n",
    "            time_tuple=index_to_time(book_counter*interval)\n",
    "            while time_tuple>=trades_time_comp[day][trade_counter][2]:\n",
    "                trade_counter+=1\n",
    "            if get_x=='price':\n",
    "                next_trade_price=trades_time_comp[day][trade_counter][0]\n",
    "                next_trade_x[day, book_counter]=next_trade_price\n",
    "            elif get_x=='size':\n",
    "                next_trade_size=trades_time_comp[day][trade_counter][1]\n",
    "                next_trade_x[day, book_counter]=next_trade_size                \n",
    "            elif get_x=='time':\n",
    "                trade_time_tuple=trades_time_comp[day][trade_counter][2]\n",
    "                next_trade_x[day, book_counter]=(timedelta(hours=trade_time_tuple[0],minutes=trade_time_tuple[1],seconds=trade_time_tuple[2])-timedelta(hours=time_tuple[0],minutes=time_tuple[1],seconds=time_tuple[2])).seconds\n",
    "            # time to next trade given in seconds\n",
    "            else:\n",
    "                raise ValueError\n",
    "    return next_trade_x"
   ]
  },
  {
   "cell_type": "code",
   "execution_count": null,
   "metadata": {},
   "outputs": [],
   "source": [
    "company=1\n",
    "interval=5\n",
    "time_to_skip=30\n",
    "get_x='size'\n",
    "get_next_trade_x_comp(company, interval, time_to_skip, get_x)[0]"
   ]
  }
 ],
 "metadata": {
  "kernelspec": {
   "display_name": "Python 3",
   "language": "python",
   "name": "python3"
  },
  "language_info": {
   "codemirror_mode": {
    "name": "ipython",
    "version": 3
   },
   "file_extension": ".py",
   "mimetype": "text/x-python",
   "name": "python",
   "nbconvert_exporter": "python",
   "pygments_lexer": "ipython3",
   "version": "3.8.3"
  }
 },
 "nbformat": 4,
 "nbformat_minor": 4
}
